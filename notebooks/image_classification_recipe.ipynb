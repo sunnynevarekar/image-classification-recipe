{
  "nbformat": 4,
  "nbformat_minor": 0,
  "metadata": {
    "colab": {
      "name": "image classification recipe.ipynb",
      "provenance": [],
      "collapsed_sections": []
    },
    "kernelspec": {
      "name": "python3",
      "display_name": "Python 3"
    },
    "accelerator": "GPU",
    "widgets": {
      "application/vnd.jupyter.widget-state+json": {
        "4bf08b01de674b9c8c9b681e082816c4": {
          "model_module": "@jupyter-widgets/controls",
          "model_name": "HBoxModel",
          "state": {
            "_view_name": "HBoxView",
            "_dom_classes": [],
            "_model_name": "HBoxModel",
            "_view_module": "@jupyter-widgets/controls",
            "_model_module_version": "1.5.0",
            "_view_count": null,
            "_view_module_version": "1.5.0",
            "box_style": "",
            "layout": "IPY_MODEL_5a83130a67a34df6b8a33d319cc7c98b",
            "_model_module": "@jupyter-widgets/controls",
            "children": [
              "IPY_MODEL_dc5498b41d2e490e85b27950e0fc7257",
              "IPY_MODEL_16ab50e4deea48469a4651b0344f63ce"
            ]
          }
        },
        "5a83130a67a34df6b8a33d319cc7c98b": {
          "model_module": "@jupyter-widgets/base",
          "model_name": "LayoutModel",
          "state": {
            "_view_name": "LayoutView",
            "grid_template_rows": null,
            "right": null,
            "justify_content": null,
            "_view_module": "@jupyter-widgets/base",
            "overflow": null,
            "_model_module_version": "1.2.0",
            "_view_count": null,
            "flex_flow": null,
            "width": null,
            "min_width": null,
            "border": null,
            "align_items": null,
            "bottom": null,
            "_model_module": "@jupyter-widgets/base",
            "top": null,
            "grid_column": null,
            "overflow_y": null,
            "overflow_x": null,
            "grid_auto_flow": null,
            "grid_area": null,
            "grid_template_columns": null,
            "flex": null,
            "_model_name": "LayoutModel",
            "justify_items": null,
            "grid_row": null,
            "max_height": null,
            "align_content": null,
            "visibility": null,
            "align_self": null,
            "height": null,
            "min_height": null,
            "padding": null,
            "grid_auto_rows": null,
            "grid_gap": null,
            "max_width": null,
            "order": null,
            "_view_module_version": "1.2.0",
            "grid_template_areas": null,
            "object_position": null,
            "object_fit": null,
            "grid_auto_columns": null,
            "margin": null,
            "display": null,
            "left": null
          }
        },
        "dc5498b41d2e490e85b27950e0fc7257": {
          "model_module": "@jupyter-widgets/controls",
          "model_name": "FloatProgressModel",
          "state": {
            "_view_name": "ProgressView",
            "style": "IPY_MODEL_f8f8fd59804e47f59ea49841c4a0ac95",
            "_dom_classes": [],
            "description": "100%",
            "_model_name": "FloatProgressModel",
            "bar_style": "success",
            "max": 46827520,
            "_view_module": "@jupyter-widgets/controls",
            "_model_module_version": "1.5.0",
            "value": 46827520,
            "_view_count": null,
            "_view_module_version": "1.5.0",
            "orientation": "horizontal",
            "min": 0,
            "description_tooltip": null,
            "_model_module": "@jupyter-widgets/controls",
            "layout": "IPY_MODEL_7f4beff65f434e6e95e06809151e6f07"
          }
        },
        "16ab50e4deea48469a4651b0344f63ce": {
          "model_module": "@jupyter-widgets/controls",
          "model_name": "HTMLModel",
          "state": {
            "_view_name": "HTMLView",
            "style": "IPY_MODEL_3c7c1295935a406ea671552a88d45e8b",
            "_dom_classes": [],
            "description": "",
            "_model_name": "HTMLModel",
            "placeholder": "​",
            "_view_module": "@jupyter-widgets/controls",
            "_model_module_version": "1.5.0",
            "value": " 44.7M/44.7M [01:36&lt;00:00, 488kB/s]",
            "_view_count": null,
            "_view_module_version": "1.5.0",
            "description_tooltip": null,
            "_model_module": "@jupyter-widgets/controls",
            "layout": "IPY_MODEL_36a371beea574f07b164bc0e5c5ec1fb"
          }
        },
        "f8f8fd59804e47f59ea49841c4a0ac95": {
          "model_module": "@jupyter-widgets/controls",
          "model_name": "ProgressStyleModel",
          "state": {
            "_view_name": "StyleView",
            "_model_name": "ProgressStyleModel",
            "description_width": "initial",
            "_view_module": "@jupyter-widgets/base",
            "_model_module_version": "1.5.0",
            "_view_count": null,
            "_view_module_version": "1.2.0",
            "bar_color": null,
            "_model_module": "@jupyter-widgets/controls"
          }
        },
        "7f4beff65f434e6e95e06809151e6f07": {
          "model_module": "@jupyter-widgets/base",
          "model_name": "LayoutModel",
          "state": {
            "_view_name": "LayoutView",
            "grid_template_rows": null,
            "right": null,
            "justify_content": null,
            "_view_module": "@jupyter-widgets/base",
            "overflow": null,
            "_model_module_version": "1.2.0",
            "_view_count": null,
            "flex_flow": null,
            "width": null,
            "min_width": null,
            "border": null,
            "align_items": null,
            "bottom": null,
            "_model_module": "@jupyter-widgets/base",
            "top": null,
            "grid_column": null,
            "overflow_y": null,
            "overflow_x": null,
            "grid_auto_flow": null,
            "grid_area": null,
            "grid_template_columns": null,
            "flex": null,
            "_model_name": "LayoutModel",
            "justify_items": null,
            "grid_row": null,
            "max_height": null,
            "align_content": null,
            "visibility": null,
            "align_self": null,
            "height": null,
            "min_height": null,
            "padding": null,
            "grid_auto_rows": null,
            "grid_gap": null,
            "max_width": null,
            "order": null,
            "_view_module_version": "1.2.0",
            "grid_template_areas": null,
            "object_position": null,
            "object_fit": null,
            "grid_auto_columns": null,
            "margin": null,
            "display": null,
            "left": null
          }
        },
        "3c7c1295935a406ea671552a88d45e8b": {
          "model_module": "@jupyter-widgets/controls",
          "model_name": "DescriptionStyleModel",
          "state": {
            "_view_name": "StyleView",
            "_model_name": "DescriptionStyleModel",
            "description_width": "",
            "_view_module": "@jupyter-widgets/base",
            "_model_module_version": "1.5.0",
            "_view_count": null,
            "_view_module_version": "1.2.0",
            "_model_module": "@jupyter-widgets/controls"
          }
        },
        "36a371beea574f07b164bc0e5c5ec1fb": {
          "model_module": "@jupyter-widgets/base",
          "model_name": "LayoutModel",
          "state": {
            "_view_name": "LayoutView",
            "grid_template_rows": null,
            "right": null,
            "justify_content": null,
            "_view_module": "@jupyter-widgets/base",
            "overflow": null,
            "_model_module_version": "1.2.0",
            "_view_count": null,
            "flex_flow": null,
            "width": null,
            "min_width": null,
            "border": null,
            "align_items": null,
            "bottom": null,
            "_model_module": "@jupyter-widgets/base",
            "top": null,
            "grid_column": null,
            "overflow_y": null,
            "overflow_x": null,
            "grid_auto_flow": null,
            "grid_area": null,
            "grid_template_columns": null,
            "flex": null,
            "_model_name": "LayoutModel",
            "justify_items": null,
            "grid_row": null,
            "max_height": null,
            "align_content": null,
            "visibility": null,
            "align_self": null,
            "height": null,
            "min_height": null,
            "padding": null,
            "grid_auto_rows": null,
            "grid_gap": null,
            "max_width": null,
            "order": null,
            "_view_module_version": "1.2.0",
            "grid_template_areas": null,
            "object_position": null,
            "object_fit": null,
            "grid_auto_columns": null,
            "margin": null,
            "display": null,
            "left": null
          }
        }
      }
    }
  },
  "cells": [
    {
      "cell_type": "code",
      "metadata": {
        "id": "j3vPMkLlc1T_",
        "colab_type": "code",
        "colab": {
          "base_uri": "https://localhost:8080/",
          "height": 128
        },
        "outputId": "5318d996-c47e-49bd-b758-f90337e212c3"
      },
      "source": [
        "!git clone https://github.com/sunnynevarekar/image-classification-recipe.git"
      ],
      "execution_count": 1,
      "outputs": [
        {
          "output_type": "stream",
          "text": [
            "Cloning into 'image-classification-recipe'...\n",
            "remote: Enumerating objects: 22, done.\u001b[K\n",
            "remote: Counting objects: 100% (22/22), done.\u001b[K\n",
            "remote: Compressing objects: 100% (16/16), done.\u001b[K\n",
            "remote: Total 22 (delta 9), reused 19 (delta 6), pack-reused 0\u001b[K\n",
            "Unpacking objects: 100% (22/22), done.\n"
          ],
          "name": "stdout"
        }
      ]
    },
    {
      "cell_type": "code",
      "metadata": {
        "id": "PRAoT0lGdC2Q",
        "colab_type": "code",
        "colab": {
          "base_uri": "https://localhost:8080/",
          "height": 1000
        },
        "outputId": "831a4c13-3b09-499c-e29b-4464a969e40a"
      },
      "source": [
        "!pip install git+https://github.com/microsoft/ComputerVision.git@master#egg=utils_cv"
      ],
      "execution_count": 2,
      "outputs": [
        {
          "output_type": "stream",
          "text": [
            "Collecting utils_cv\n",
            "  Cloning https://github.com/microsoft/ComputerVision.git (to revision master) to /tmp/pip-install-8ocpuzrs/utils-cv\n",
            "  Running command git clone -q https://github.com/microsoft/ComputerVision.git /tmp/pip-install-8ocpuzrs/utils-cv\n",
            "  Running command git submodule update --init --recursive -q\n",
            "  Installing build dependencies ... \u001b[?25l\u001b[?25hdone\n",
            "  Getting requirements to build wheel ... \u001b[?25l\u001b[?25hdone\n",
            "    Preparing wheel metadata ... \u001b[?25l\u001b[?25hdone\n",
            "Collecting azureml-sdk[contrib,notebooks]>=1.0.30\n",
            "  Downloading https://files.pythonhosted.org/packages/8b/70/4c27e90abc91efd13010d7699583bb67a21ac2e91b19e5a50d89ad547505/azureml_sdk-1.12.0-py3-none-any.whl\n",
            "Collecting fastai==1.0.48\n",
            "\u001b[?25l  Downloading https://files.pythonhosted.org/packages/e5/b4/1e4b4d439a79f4b384e35983aa1b1cefea8423757117527592d8c507a44d/fastai-1.0.48-py3-none-any.whl (208kB)\n",
            "\u001b[K     |████████████████████████████████| 215kB 7.9MB/s \n",
            "\u001b[?25hCollecting bqplot\n",
            "\u001b[?25l  Downloading https://files.pythonhosted.org/packages/12/0b/ff87dfe169c9b281b9c4d8c5e854745d561941d5cf26997876623948e79f/bqplot-0.12.16-py2.py3-none-any.whl (4.7MB)\n",
            "\u001b[K     |████████████████████████████████| 4.7MB 9.6MB/s \n",
            "\u001b[?25hRequirement already satisfied: scikit-learn>=0.19.1 in /usr/local/lib/python3.6/dist-packages (from utils_cv) (0.22.2.post1)\n",
            "Collecting azureml-train-automl-client~=1.12.0\n",
            "\u001b[?25l  Downloading https://files.pythonhosted.org/packages/2a/4c/0bae0f865e5ccc71f31509c446165d6ad8c96b7e6ae0916122ccc6905a99/azureml_train_automl_client-1.12.0.post1-py3-none-any.whl (97kB)\n",
            "\u001b[K     |████████████████████████████████| 102kB 13.1MB/s \n",
            "\u001b[?25hCollecting azureml-pipeline~=1.12.0\n",
            "  Downloading https://files.pythonhosted.org/packages/37/34/b150bb2ca129badb7cbaf0642443339db8ed0ce94f358f8741ea3ed9fca8/azureml_pipeline-1.12.0-py3-none-any.whl\n",
            "Collecting azureml-core~=1.12.0\n",
            "\u001b[?25l  Downloading https://files.pythonhosted.org/packages/8a/2c/b6157d4a34a205b563a1e79635f530eec7c839abf8763a518f69fe4a3d91/azureml_core-1.12.0.post1-py3-none-any.whl (2.0MB)\n",
            "\u001b[K     |████████████████████████████████| 2.0MB 48.3MB/s \n",
            "\u001b[?25hCollecting azureml-train~=1.12.0\n",
            "  Downloading https://files.pythonhosted.org/packages/ef/ec/4684d5985ba7ee255cf71719178c8682220f0171d8aac5f8ec6a099539ce/azureml_train-1.12.0-py3-none-any.whl\n",
            "Collecting azureml-dataset-runtime[fuse]~=1.12.0\n",
            "  Downloading https://files.pythonhosted.org/packages/81/72/3653099646d95759dae54b5c35396b4c52e103679ccd47eacbac3687a571/azureml_dataset_runtime-1.12.0-py3-none-any.whl\n",
            "Collecting azureml-contrib-server~=1.12.0; extra == \"contrib\"\n",
            "  Downloading https://files.pythonhosted.org/packages/83/49/a2b4141c1d07179e7c10a037435ebcd212adf39cf66375ae35e9c3f4c597/azureml_contrib_server-1.12.0-py3-none-any.whl\n",
            "Collecting azureml-contrib-notebook~=1.12.0; extra == \"contrib\"\n",
            "  Downloading https://files.pythonhosted.org/packages/c6/b0/adfca5eb8ae9c58b55fecf9f464ce95ae392009a413b9cf27b20143e88e7/azureml_contrib_notebook-1.12.0-py3-none-any.whl\n",
            "Collecting azureml-contrib-pipeline-steps~=1.12.0; extra == \"contrib\"\n",
            "  Downloading https://files.pythonhosted.org/packages/62/89/7d7f56ef89281d056c5650bc6ee0d4c6ccfcf18a0034f14dba14fef1402c/azureml_contrib_pipeline_steps-1.12.0-py3-none-any.whl\n",
            "Collecting azureml-contrib-services~=1.12.0; extra == \"contrib\"\n",
            "  Downloading https://files.pythonhosted.org/packages/8c/40/925b14f01141279e8b3c669a05f74eeabe47272f77cd09b078fa95b18b5a/azureml_contrib_services-1.12.0-py3-none-any.whl\n",
            "Collecting azureml-widgets~=1.12.0; extra == \"notebooks\"\n",
            "\u001b[?25l  Downloading https://files.pythonhosted.org/packages/7b/43/7bbce93ef66c1fd8630d492831fcd885fe40a1ab024e3cb4ed9d607d1353/azureml_widgets-1.12.0-py3-none-any.whl (14.1MB)\n",
            "\u001b[K     |████████████████████████████████| 14.1MB 159kB/s \n",
            "\u001b[?25hRequirement already satisfied: numpy>=1.15 in /usr/local/lib/python3.6/dist-packages (from fastai==1.0.48->utils_cv) (1.18.5)\n",
            "Collecting typing\n",
            "\u001b[?25l  Downloading https://files.pythonhosted.org/packages/05/d9/6eebe19d46bd05360c9a9aae822e67a80f9242aabbfc58b641b957546607/typing-3.7.4.3.tar.gz (78kB)\n",
            "\u001b[K     |████████████████████████████████| 81kB 10.3MB/s \n",
            "\u001b[?25hRequirement already satisfied: scipy in /usr/local/lib/python3.6/dist-packages (from fastai==1.0.48->utils_cv) (1.4.1)\n",
            "Requirement already satisfied: requests in /usr/local/lib/python3.6/dist-packages (from fastai==1.0.48->utils_cv) (2.23.0)\n",
            "Requirement already satisfied: spacy>=2.0.18 in /usr/local/lib/python3.6/dist-packages (from fastai==1.0.48->utils_cv) (2.2.4)\n",
            "Requirement already satisfied: torchvision in /usr/local/lib/python3.6/dist-packages (from fastai==1.0.48->utils_cv) (0.7.0+cu101)\n",
            "Requirement already satisfied: matplotlib in /usr/local/lib/python3.6/dist-packages (from fastai==1.0.48->utils_cv) (3.2.2)\n",
            "Requirement already satisfied: Pillow in /usr/local/lib/python3.6/dist-packages (from fastai==1.0.48->utils_cv) (7.0.0)\n",
            "Requirement already satisfied: numexpr in /usr/local/lib/python3.6/dist-packages (from fastai==1.0.48->utils_cv) (2.7.1)\n",
            "Requirement already satisfied: dataclasses; python_version < \"3.7\" in /usr/local/lib/python3.6/dist-packages (from fastai==1.0.48->utils_cv) (0.7)\n",
            "Requirement already satisfied: packaging in /usr/local/lib/python3.6/dist-packages (from fastai==1.0.48->utils_cv) (20.4)\n",
            "Requirement already satisfied: torch>=1.0.0 in /usr/local/lib/python3.6/dist-packages (from fastai==1.0.48->utils_cv) (1.6.0+cu101)\n",
            "Requirement already satisfied: fastprogress>=0.1.19 in /usr/local/lib/python3.6/dist-packages (from fastai==1.0.48->utils_cv) (0.2.5)\n",
            "Requirement already satisfied: bottleneck in /usr/local/lib/python3.6/dist-packages (from fastai==1.0.48->utils_cv) (1.3.2)\n",
            "Requirement already satisfied: pyyaml in /usr/local/lib/python3.6/dist-packages (from fastai==1.0.48->utils_cv) (3.13)\n",
            "Requirement already satisfied: pandas in /usr/local/lib/python3.6/dist-packages (from fastai==1.0.48->utils_cv) (1.0.5)\n",
            "Requirement already satisfied: nvidia-ml-py3 in /usr/local/lib/python3.6/dist-packages (from fastai==1.0.48->utils_cv) (7.352.0)\n",
            "Requirement already satisfied: beautifulsoup4 in /usr/local/lib/python3.6/dist-packages (from fastai==1.0.48->utils_cv) (4.6.3)\n",
            "Collecting traittypes>=0.0.6\n",
            "  Downloading https://files.pythonhosted.org/packages/9c/d1/8d5bd662703cc1764d986f6908a608777305946fa634d34c470cd4a1e729/traittypes-0.2.1-py2.py3-none-any.whl\n",
            "Requirement already satisfied: traitlets>=4.3.0 in /usr/local/lib/python3.6/dist-packages (from bqplot->utils_cv) (4.3.3)\n",
            "Requirement already satisfied: ipywidgets>=7.5.0 in /usr/local/lib/python3.6/dist-packages (from bqplot->utils_cv) (7.5.1)\n",
            "Requirement already satisfied: joblib>=0.11 in /usr/local/lib/python3.6/dist-packages (from scikit-learn>=0.19.1->utils_cv) (0.16.0)\n",
            "Collecting azureml-telemetry~=1.12.0\n",
            "  Downloading https://files.pythonhosted.org/packages/45/8a/865180d1fce6367065df77c01801cd5f9c7a4a16dd9c266614ab42ce5f75/azureml_telemetry-1.12.0-py3-none-any.whl\n",
            "Collecting azureml-automl-core~=1.12.0\n",
            "\u001b[?25l  Downloading https://files.pythonhosted.org/packages/e6/dc/dd6d3e8b4e94b01031854ee25f60bc47187acff164ee80ee93a685006a99/azureml_automl_core-1.12.0-py3-none-any.whl (158kB)\n",
            "\u001b[K     |████████████████████████████████| 163kB 55.9MB/s \n",
            "\u001b[?25hCollecting azureml-pipeline-steps~=1.12.0\n",
            "\u001b[?25l  Downloading https://files.pythonhosted.org/packages/b0/38/59a91cfd68bf48d9614898c16db25f42e7eb3317eba4c3c87652f0e2e3d0/azureml_pipeline_steps-1.12.0-py3-none-any.whl (59kB)\n",
            "\u001b[K     |████████████████████████████████| 61kB 8.8MB/s \n",
            "\u001b[?25hCollecting azureml-pipeline-core~=1.12.0\n",
            "\u001b[?25l  Downloading https://files.pythonhosted.org/packages/a9/e2/07370c2431bc26c192cf5de3a51d182bc698ef463c2db8294a3048874107/azureml_pipeline_core-1.12.0-py3-none-any.whl (300kB)\n",
            "\u001b[K     |████████████████████████████████| 307kB 50.2MB/s \n",
            "\u001b[?25hCollecting pathspec\n",
            "  Downloading https://files.pythonhosted.org/packages/5d/d0/887c58853bd4b6ffc7aa9cdba4fc57d7b979b45888a6bd47e4568e1cf868/pathspec-0.8.0-py2.py3-none-any.whl\n",
            "Collecting backports.tempfile\n",
            "  Downloading https://files.pythonhosted.org/packages/b4/5c/077f910632476281428fe254807952eb47ca78e720d059a46178c541e669/backports.tempfile-1.0-py2.py3-none-any.whl\n",
            "Requirement already satisfied: jmespath in /usr/local/lib/python3.6/dist-packages (from azureml-core~=1.12.0->azureml-sdk[contrib,notebooks]>=1.0.30->utils_cv) (0.10.0)\n",
            "Collecting ndg-httpsclient\n",
            "  Downloading https://files.pythonhosted.org/packages/fb/67/c2f508c00ed2a6911541494504b7cac16fe0b0473912568df65fd1801132/ndg_httpsclient-0.5.1-py3-none-any.whl\n",
            "Collecting msrest>=0.5.1\n",
            "\u001b[?25l  Downloading https://files.pythonhosted.org/packages/d9/ed/8e1b75721ad983c1672cd968ad3ae374d2e94767edff6f0b72a15dfde933/msrest-0.6.18-py2.py3-none-any.whl (84kB)\n",
            "\u001b[K     |████████████████████████████████| 92kB 12.2MB/s \n",
            "\u001b[?25hCollecting adal>=1.2.0\n",
            "\u001b[?25l  Downloading https://files.pythonhosted.org/packages/46/58/a19e0eb0c388fb7aced40f940c09069343862613d83095b592a8d3961ba1/adal-1.2.4-py2.py3-none-any.whl (55kB)\n",
            "\u001b[K     |████████████████████████████████| 61kB 8.9MB/s \n",
            "\u001b[?25hCollecting azure-mgmt-resource>=1.2.1\n",
            "\u001b[?25l  Downloading https://files.pythonhosted.org/packages/af/b3/8009c149d7d162b7a2a22a5007f984aa090f089bf8dc09e7e84bd354b868/azure_mgmt_resource-10.2.0-py2.py3-none-any.whl (968kB)\n",
            "\u001b[K     |████████████████████████████████| 972kB 53.9MB/s \n",
            "\u001b[?25hCollecting azure-mgmt-authorization>=0.40.0\n",
            "\u001b[?25l  Downloading https://files.pythonhosted.org/packages/b4/50/7a923f58bf053280fe1890f3332c08f6a82a208c92035ad8f7888c87b786/azure_mgmt_authorization-0.61.0-py2.py3-none-any.whl (94kB)\n",
            "\u001b[K     |████████████████████████████████| 102kB 13.8MB/s \n",
            "\u001b[?25hCollecting SecretStorage\n",
            "  Downloading https://files.pythonhosted.org/packages/c3/50/8a02cad020e949e6d7105f5f4530d41e3febcaa5b73f8f2148aacb3aeba5/SecretStorage-3.1.2-py3-none-any.whl\n",
            "Collecting azure-mgmt-storage>=1.5.0\n",
            "\u001b[?25l  Downloading https://files.pythonhosted.org/packages/60/6c/2f170614e3414e807c8f18a197237a0a54c3cebf770e4cb3b2ef31138f58/azure_mgmt_storage-11.1.0-py2.py3-none-any.whl (547kB)\n",
            "\u001b[K     |████████████████████████████████| 552kB 47.7MB/s \n",
            "\u001b[?25hCollecting azure-mgmt-keyvault>=0.40.0\n",
            "\u001b[?25l  Downloading https://files.pythonhosted.org/packages/f1/af/1ba15e7176bcf6b1531b453e410ae41a983c09f834d8700dfce739451b53/azure_mgmt_keyvault-2.2.0-py2.py3-none-any.whl (89kB)\n",
            "\u001b[K     |████████████████████████████████| 92kB 12.0MB/s \n",
            "\u001b[?25hCollecting azure-graphrbac>=0.40.0\n",
            "\u001b[?25l  Downloading https://files.pythonhosted.org/packages/3e/93/02056aca45162f9fc275d1eaad12a2a07ef92375afb48eabddc4134b8315/azure_graphrbac-0.61.1-py2.py3-none-any.whl (141kB)\n",
            "\u001b[K     |████████████████████████████████| 143kB 60.1MB/s \n",
            "\u001b[?25hCollecting PyJWT\n",
            "  Downloading https://files.pythonhosted.org/packages/87/8b/6a9f14b5f781697e51259d81657e6048fd31a113229cf346880bb7545565/PyJWT-1.7.1-py2.py3-none-any.whl\n",
            "Requirement already satisfied: urllib3>=1.23 in /usr/local/lib/python3.6/dist-packages (from azureml-core~=1.12.0->azureml-sdk[contrib,notebooks]>=1.0.30->utils_cv) (1.24.3)\n",
            "Requirement already satisfied: python-dateutil>=2.7.3 in /usr/local/lib/python3.6/dist-packages (from azureml-core~=1.12.0->azureml-sdk[contrib,notebooks]>=1.0.30->utils_cv) (2.8.1)\n",
            "Collecting azure-mgmt-containerregistry>=2.0.0\n",
            "\u001b[?25l  Downloading https://files.pythonhosted.org/packages/97/70/8c2d0509db466678eba16fa2b0a539499f3b351b1f2993126ad843d5be13/azure_mgmt_containerregistry-2.8.0-py2.py3-none-any.whl (718kB)\n",
            "\u001b[K     |████████████████████████████████| 727kB 45.3MB/s \n",
            "\u001b[?25hCollecting azure-common>=1.1.12\n",
            "  Downloading https://files.pythonhosted.org/packages/e5/4d/d000fc3c5af601d00d55750b71da5c231fcb128f42ac95b208ed1091c2c1/azure_common-1.1.25-py2.py3-none-any.whl\n",
            "Collecting ruamel.yaml>=0.15.35\n",
            "\u001b[?25l  Downloading https://files.pythonhosted.org/packages/a6/92/59af3e38227b9cc14520bf1e59516d99ceca53e3b8448094248171e9432b/ruamel.yaml-0.16.10-py2.py3-none-any.whl (111kB)\n",
            "\u001b[K     |████████████████████████████████| 112kB 53.3MB/s \n",
            "\u001b[?25hCollecting jsonpickle\n",
            "  Downloading https://files.pythonhosted.org/packages/af/ca/4fee219cc4113a5635e348ad951cf8a2e47fed2e3342312493f5b73d0007/jsonpickle-1.4.1-py2.py3-none-any.whl\n",
            "Collecting msrestazure>=0.4.33\n",
            "\u001b[?25l  Downloading https://files.pythonhosted.org/packages/5e/3a/7adb08fd2f0ee6fdfd03685fac38477b64f184943dcf6ea0cbffb205f22d/msrestazure-0.6.4-py2.py3-none-any.whl (40kB)\n",
            "\u001b[K     |████████████████████████████████| 40kB 6.1MB/s \n",
            "\u001b[?25hRequirement already satisfied: pytz in /usr/local/lib/python3.6/dist-packages (from azureml-core~=1.12.0->azureml-sdk[contrib,notebooks]>=1.0.30->utils_cv) (2018.9)\n",
            "Collecting docker\n",
            "\u001b[?25l  Downloading https://files.pythonhosted.org/packages/9e/8c/8d42dbd83679483db207535f4fb02dc84325fa78b290f057694b057fcd21/docker-4.3.1-py2.py3-none-any.whl (145kB)\n",
            "\u001b[K     |████████████████████████████████| 153kB 56.5MB/s \n",
            "\u001b[?25hCollecting cryptography!=1.9,!=2.0.*,!=2.1.*,!=2.2.*\n",
            "\u001b[?25l  Downloading https://files.pythonhosted.org/packages/ba/91/84a29d6a27fd6dfc21f475704c4d2053d58ed7a4033c2b0ce1b4ca4d03d9/cryptography-3.0-cp35-abi3-manylinux2010_x86_64.whl (2.7MB)\n",
            "\u001b[K     |████████████████████████████████| 2.7MB 49.3MB/s \n",
            "\u001b[?25hCollecting pyopenssl\n",
            "\u001b[?25l  Downloading https://files.pythonhosted.org/packages/9e/de/f8342b68fa9e981d348039954657bdf681b2ab93de27443be51865ffa310/pyOpenSSL-19.1.0-py2.py3-none-any.whl (53kB)\n",
            "\u001b[K     |████████████████████████████████| 61kB 8.6MB/s \n",
            "\u001b[?25hRequirement already satisfied: contextlib2 in /usr/local/lib/python3.6/dist-packages (from azureml-core~=1.12.0->azureml-sdk[contrib,notebooks]>=1.0.30->utils_cv) (0.5.5)\n",
            "Collecting azureml-train-core~=1.12.0\n",
            "\u001b[?25l  Downloading https://files.pythonhosted.org/packages/14/7b/d8fa450f507c65aa57416e1b0dd8fc49ce7a1aea3f35d31cdace458c6c64/azureml_train_core-1.12.0-py3-none-any.whl (8.6MB)\n",
            "\u001b[K     |████████████████████████████████| 8.6MB 44.8MB/s \n",
            "\u001b[?25hCollecting azureml-dataprep<2.1.0a,>=2.0.1a\n",
            "\u001b[?25l  Downloading https://files.pythonhosted.org/packages/e4/5e/76b26e291b395582f0badd6077b42c5295c94d19c89f7bfac914cc79bfe5/azureml_dataprep-2.0.7-py3-none-any.whl (28.2MB)\n",
            "\u001b[K     |████████████████████████████████| 28.2MB 101kB/s \n",
            "\u001b[?25hCollecting pyarrow<2.0.0,>=0.17.0\n",
            "\u001b[?25l  Downloading https://files.pythonhosted.org/packages/f3/99/0a605f016121ca314d1469dc9069e4978395bc46fda40f73099d90ad3ba4/pyarrow-1.0.1-cp36-cp36m-manylinux2014_x86_64.whl (17.3MB)\n",
            "\u001b[K     |████████████████████████████████| 17.3MB 206kB/s \n",
            "\u001b[?25hCollecting fusepy<4.0.0,>=3.0.1; extra == \"fuse\"\n",
            "  Downloading https://files.pythonhosted.org/packages/04/0b/4506cb2e831cea4b0214d3625430e921faaa05a7fb520458c75a2dbd2152/fusepy-3.0.1.tar.gz\n",
            "Requirement already satisfied: ipykernel in /usr/local/lib/python3.6/dist-packages (from azureml-contrib-notebook~=1.12.0; extra == \"contrib\"->azureml-sdk[contrib,notebooks]>=1.0.30->utils_cv) (4.10.1)\n",
            "Collecting papermill<2\n",
            "  Downloading https://files.pythonhosted.org/packages/7f/67/338f08d7950c27d6cfe580cf4d1995600e368f584469cffb8d557fe51ab5/papermill-1.2.1-py2.py3-none-any.whl\n",
            "Requirement already satisfied: ipython in /usr/local/lib/python3.6/dist-packages (from azureml-contrib-notebook~=1.12.0; extra == \"contrib\"->azureml-sdk[contrib,notebooks]>=1.0.30->utils_cv) (5.5.0)\n",
            "Requirement already satisfied: Flask<2.0,>=1.0 in /usr/local/lib/python3.6/dist-packages (from azureml-contrib-services~=1.12.0; extra == \"contrib\"->azureml-sdk[contrib,notebooks]>=1.0.30->utils_cv) (1.1.2)\n",
            "Requirement already satisfied: idna<3,>=2.5 in /usr/local/lib/python3.6/dist-packages (from requests->fastai==1.0.48->utils_cv) (2.10)\n",
            "Requirement already satisfied: certifi>=2017.4.17 in /usr/local/lib/python3.6/dist-packages (from requests->fastai==1.0.48->utils_cv) (2020.6.20)\n",
            "Requirement already satisfied: chardet<4,>=3.0.2 in /usr/local/lib/python3.6/dist-packages (from requests->fastai==1.0.48->utils_cv) (3.0.4)\n",
            "Requirement already satisfied: cymem<2.1.0,>=2.0.2 in /usr/local/lib/python3.6/dist-packages (from spacy>=2.0.18->fastai==1.0.48->utils_cv) (2.0.3)\n",
            "Requirement already satisfied: srsly<1.1.0,>=1.0.2 in /usr/local/lib/python3.6/dist-packages (from spacy>=2.0.18->fastai==1.0.48->utils_cv) (1.0.2)\n",
            "Requirement already satisfied: wasabi<1.1.0,>=0.4.0 in /usr/local/lib/python3.6/dist-packages (from spacy>=2.0.18->fastai==1.0.48->utils_cv) (0.7.1)\n",
            "Requirement already satisfied: plac<1.2.0,>=0.9.6 in /usr/local/lib/python3.6/dist-packages (from spacy>=2.0.18->fastai==1.0.48->utils_cv) (1.1.3)\n",
            "Requirement already satisfied: thinc==7.4.0 in /usr/local/lib/python3.6/dist-packages (from spacy>=2.0.18->fastai==1.0.48->utils_cv) (7.4.0)\n",
            "Requirement already satisfied: tqdm<5.0.0,>=4.38.0 in /usr/local/lib/python3.6/dist-packages (from spacy>=2.0.18->fastai==1.0.48->utils_cv) (4.41.1)\n",
            "Requirement already satisfied: blis<0.5.0,>=0.4.0 in /usr/local/lib/python3.6/dist-packages (from spacy>=2.0.18->fastai==1.0.48->utils_cv) (0.4.1)\n",
            "Requirement already satisfied: setuptools in /usr/local/lib/python3.6/dist-packages (from spacy>=2.0.18->fastai==1.0.48->utils_cv) (49.2.0)\n",
            "Requirement already satisfied: catalogue<1.1.0,>=0.0.7 in /usr/local/lib/python3.6/dist-packages (from spacy>=2.0.18->fastai==1.0.48->utils_cv) (1.0.0)\n",
            "Requirement already satisfied: murmurhash<1.1.0,>=0.28.0 in /usr/local/lib/python3.6/dist-packages (from spacy>=2.0.18->fastai==1.0.48->utils_cv) (1.0.2)\n",
            "Requirement already satisfied: preshed<3.1.0,>=3.0.2 in /usr/local/lib/python3.6/dist-packages (from spacy>=2.0.18->fastai==1.0.48->utils_cv) (3.0.2)\n",
            "Requirement already satisfied: kiwisolver>=1.0.1 in /usr/local/lib/python3.6/dist-packages (from matplotlib->fastai==1.0.48->utils_cv) (1.2.0)\n",
            "Requirement already satisfied: cycler>=0.10 in /usr/local/lib/python3.6/dist-packages (from matplotlib->fastai==1.0.48->utils_cv) (0.10.0)\n",
            "Requirement already satisfied: pyparsing!=2.0.4,!=2.1.2,!=2.1.6,>=2.0.1 in /usr/local/lib/python3.6/dist-packages (from matplotlib->fastai==1.0.48->utils_cv) (2.4.7)\n",
            "Requirement already satisfied: six in /usr/local/lib/python3.6/dist-packages (from packaging->fastai==1.0.48->utils_cv) (1.15.0)\n",
            "Requirement already satisfied: future in /usr/local/lib/python3.6/dist-packages (from torch>=1.0.0->fastai==1.0.48->utils_cv) (0.16.0)\n",
            "Requirement already satisfied: decorator in /usr/local/lib/python3.6/dist-packages (from traitlets>=4.3.0->bqplot->utils_cv) (4.4.2)\n",
            "Requirement already satisfied: ipython-genutils in /usr/local/lib/python3.6/dist-packages (from traitlets>=4.3.0->bqplot->utils_cv) (0.2.0)\n",
            "Requirement already satisfied: widgetsnbextension~=3.5.0 in /usr/local/lib/python3.6/dist-packages (from ipywidgets>=7.5.0->bqplot->utils_cv) (3.5.1)\n",
            "Requirement already satisfied: nbformat>=4.2.0 in /usr/local/lib/python3.6/dist-packages (from ipywidgets>=7.5.0->bqplot->utils_cv) (5.0.7)\n",
            "Collecting applicationinsights\n",
            "\u001b[?25l  Downloading https://files.pythonhosted.org/packages/a1/53/234c53004f71f0717d8acd37876e0b65c121181167057b9ce1b1795f96a0/applicationinsights-0.11.9-py2.py3-none-any.whl (58kB)\n",
            "\u001b[K     |████████████████████████████████| 61kB 8.8MB/s \n",
            "\u001b[?25hCollecting backports.weakref\n",
            "  Downloading https://files.pythonhosted.org/packages/88/ec/f598b633c3d5ffe267aaada57d961c94fdfa183c5c3ebda2b6d151943db6/backports.weakref-1.0.post1-py2.py3-none-any.whl\n",
            "Requirement already satisfied: pyasn1>=0.1.1 in /usr/local/lib/python3.6/dist-packages (from ndg-httpsclient->azureml-core~=1.12.0->azureml-sdk[contrib,notebooks]>=1.0.30->utils_cv) (0.4.8)\n",
            "Requirement already satisfied: requests-oauthlib>=0.5.0 in /usr/local/lib/python3.6/dist-packages (from msrest>=0.5.1->azureml-core~=1.12.0->azureml-sdk[contrib,notebooks]>=1.0.30->utils_cv) (1.3.0)\n",
            "Collecting isodate>=0.6.0\n",
            "\u001b[?25l  Downloading https://files.pythonhosted.org/packages/9b/9f/b36f7774ff5ea8e428fdcfc4bb332c39ee5b9362ddd3d40d9516a55221b2/isodate-0.6.0-py2.py3-none-any.whl (45kB)\n",
            "\u001b[K     |████████████████████████████████| 51kB 7.4MB/s \n",
            "\u001b[?25hCollecting jeepney>=0.4.2\n",
            "  Downloading https://files.pythonhosted.org/packages/79/31/2e8d42727595faf224c6dbb748c32b192e212f25495fe841fb7ce8e168b8/jeepney-0.4.3-py3-none-any.whl\n",
            "Collecting ruamel.yaml.clib>=0.1.2; platform_python_implementation == \"CPython\" and python_version < \"3.9\"\n",
            "\u001b[?25l  Downloading https://files.pythonhosted.org/packages/53/77/4bcd63f362bcb6c8f4f06253c11f9772f64189bf08cf3f40c5ccbda9e561/ruamel.yaml.clib-0.2.0-cp36-cp36m-manylinux1_x86_64.whl (548kB)\n",
            "\u001b[K     |████████████████████████████████| 552kB 48.0MB/s \n",
            "\u001b[?25hRequirement already satisfied: importlib-metadata in /usr/local/lib/python3.6/dist-packages (from jsonpickle->azureml-core~=1.12.0->azureml-sdk[contrib,notebooks]>=1.0.30->utils_cv) (1.7.0)\n",
            "Collecting websocket-client>=0.32.0\n",
            "\u001b[?25l  Downloading https://files.pythonhosted.org/packages/4c/5f/f61b420143ed1c8dc69f9eaec5ff1ac36109d52c80de49d66e0c36c3dfdf/websocket_client-0.57.0-py2.py3-none-any.whl (200kB)\n",
            "\u001b[K     |████████████████████████████████| 204kB 55.0MB/s \n",
            "\u001b[?25hRequirement already satisfied: cffi!=1.11.3,>=1.8 in /usr/local/lib/python3.6/dist-packages (from cryptography!=1.9,!=2.0.*,!=2.1.*,!=2.2.*->azureml-core~=1.12.0->azureml-sdk[contrib,notebooks]>=1.0.30->utils_cv) (1.14.1)\n",
            "Collecting azureml-train-restclients-hyperdrive~=1.12.0\n",
            "  Downloading https://files.pythonhosted.org/packages/0f/d4/b0c4137c3f28895286c71685e30ee71619f34a73118ab824beaa36bc556e/azureml_train_restclients_hyperdrive-1.12.0-py3-none-any.whl\n",
            "Requirement already satisfied: cloudpickle<2.0.0,>=1.1.0 in /usr/local/lib/python3.6/dist-packages (from azureml-dataprep<2.1.0a,>=2.0.1a->azureml-dataset-runtime[fuse]~=1.12.0->azureml-sdk[contrib,notebooks]>=1.0.30->utils_cv) (1.3.0)\n",
            "Collecting dotnetcore2<3.0.0,>=2.1.14\n",
            "\u001b[?25l  Downloading https://files.pythonhosted.org/packages/f8/63/00dcafe16dff60e87b6fedf3e02e13b44fbdcccc3ccbf0215dea4527d59d/dotnetcore2-2.1.14-py3-none-manylinux1_x86_64.whl (29.3MB)\n",
            "\u001b[K     |████████████████████████████████| 29.3MB 104kB/s \n",
            "\u001b[?25hCollecting azure-identity<1.3.0,>=1.2.0\n",
            "\u001b[?25l  Downloading https://files.pythonhosted.org/packages/c4/7a/9372cd51fc3408ede0fab950ef9a6518cad34ef36e199982bb1ddfa18512/azure_identity-1.2.0-py2.py3-none-any.whl (58kB)\n",
            "\u001b[K     |████████████████████████████████| 61kB 8.0MB/s \n",
            "\u001b[?25hCollecting azureml-dataprep-native<21.0.0,>=20.0.2\n",
            "\u001b[?25l  Downloading https://files.pythonhosted.org/packages/a3/36/cdf82ca5f68355bbd8f78d2e3b865fe43297039dbf6d962058a2a27afc31/azureml_dataprep_native-20.0.2-cp36-cp36m-manylinux1_x86_64.whl (10.7MB)\n",
            "\u001b[K     |████████████████████████████████| 10.7MB 52.4MB/s \n",
            "\u001b[?25hRequirement already satisfied: tornado>=4.0 in /usr/local/lib/python3.6/dist-packages (from ipykernel->azureml-contrib-notebook~=1.12.0; extra == \"contrib\"->azureml-sdk[contrib,notebooks]>=1.0.30->utils_cv) (5.1.1)\n",
            "Requirement already satisfied: jupyter-client in /usr/local/lib/python3.6/dist-packages (from ipykernel->azureml-contrib-notebook~=1.12.0; extra == \"contrib\"->azureml-sdk[contrib,notebooks]>=1.0.30->utils_cv) (5.3.5)\n",
            "Requirement already satisfied: nbconvert>=5.5 in /usr/local/lib/python3.6/dist-packages (from papermill<2->azureml-contrib-notebook~=1.12.0; extra == \"contrib\"->azureml-sdk[contrib,notebooks]>=1.0.30->utils_cv) (5.6.1)\n",
            "Collecting ansiwrap\n",
            "  Downloading https://files.pythonhosted.org/packages/03/50/43e775a63e0d632d9be3b3fa1c9b2cbaf3b7870d203655710a3426f47c26/ansiwrap-0.8.4-py2.py3-none-any.whl\n",
            "Requirement already satisfied: entrypoints in /usr/local/lib/python3.6/dist-packages (from papermill<2->azureml-contrib-notebook~=1.12.0; extra == \"contrib\"->azureml-sdk[contrib,notebooks]>=1.0.30->utils_cv) (0.3)\n",
            "Collecting tenacity\n",
            "  Downloading https://files.pythonhosted.org/packages/b5/05/ff089032442058bd3386f9cd991cd88ccac81dca1494d78751621ee35e62/tenacity-6.2.0-py2.py3-none-any.whl\n",
            "Requirement already satisfied: click in /usr/local/lib/python3.6/dist-packages (from papermill<2->azureml-contrib-notebook~=1.12.0; extra == \"contrib\"->azureml-sdk[contrib,notebooks]>=1.0.30->utils_cv) (7.1.2)\n",
            "Requirement already satisfied: prompt-toolkit<2.0.0,>=1.0.4 in /usr/local/lib/python3.6/dist-packages (from ipython->azureml-contrib-notebook~=1.12.0; extra == \"contrib\"->azureml-sdk[contrib,notebooks]>=1.0.30->utils_cv) (1.0.18)\n",
            "Requirement already satisfied: pexpect; sys_platform != \"win32\" in /usr/local/lib/python3.6/dist-packages (from ipython->azureml-contrib-notebook~=1.12.0; extra == \"contrib\"->azureml-sdk[contrib,notebooks]>=1.0.30->utils_cv) (4.8.0)\n",
            "Requirement already satisfied: simplegeneric>0.8 in /usr/local/lib/python3.6/dist-packages (from ipython->azureml-contrib-notebook~=1.12.0; extra == \"contrib\"->azureml-sdk[contrib,notebooks]>=1.0.30->utils_cv) (0.8.1)\n",
            "Requirement already satisfied: pygments in /usr/local/lib/python3.6/dist-packages (from ipython->azureml-contrib-notebook~=1.12.0; extra == \"contrib\"->azureml-sdk[contrib,notebooks]>=1.0.30->utils_cv) (2.1.3)\n",
            "Requirement already satisfied: pickleshare in /usr/local/lib/python3.6/dist-packages (from ipython->azureml-contrib-notebook~=1.12.0; extra == \"contrib\"->azureml-sdk[contrib,notebooks]>=1.0.30->utils_cv) (0.7.5)\n",
            "Requirement already satisfied: Jinja2>=2.10.1 in /usr/local/lib/python3.6/dist-packages (from Flask<2.0,>=1.0->azureml-contrib-services~=1.12.0; extra == \"contrib\"->azureml-sdk[contrib,notebooks]>=1.0.30->utils_cv) (2.11.2)\n",
            "Requirement already satisfied: Werkzeug>=0.15 in /usr/local/lib/python3.6/dist-packages (from Flask<2.0,>=1.0->azureml-contrib-services~=1.12.0; extra == \"contrib\"->azureml-sdk[contrib,notebooks]>=1.0.30->utils_cv) (1.0.1)\n",
            "Requirement already satisfied: itsdangerous>=0.24 in /usr/local/lib/python3.6/dist-packages (from Flask<2.0,>=1.0->azureml-contrib-services~=1.12.0; extra == \"contrib\"->azureml-sdk[contrib,notebooks]>=1.0.30->utils_cv) (1.1.0)\n",
            "Requirement already satisfied: notebook>=4.4.1 in /usr/local/lib/python3.6/dist-packages (from widgetsnbextension~=3.5.0->ipywidgets>=7.5.0->bqplot->utils_cv) (5.3.1)\n",
            "Requirement already satisfied: jupyter-core in /usr/local/lib/python3.6/dist-packages (from nbformat>=4.2.0->ipywidgets>=7.5.0->bqplot->utils_cv) (4.6.3)\n",
            "Requirement already satisfied: jsonschema!=2.5.0,>=2.4 in /usr/local/lib/python3.6/dist-packages (from nbformat>=4.2.0->ipywidgets>=7.5.0->bqplot->utils_cv) (2.6.0)\n",
            "Requirement already satisfied: oauthlib>=3.0.0 in /usr/local/lib/python3.6/dist-packages (from requests-oauthlib>=0.5.0->msrest>=0.5.1->azureml-core~=1.12.0->azureml-sdk[contrib,notebooks]>=1.0.30->utils_cv) (3.1.0)\n",
            "Requirement already satisfied: zipp>=0.5 in /usr/local/lib/python3.6/dist-packages (from importlib-metadata->jsonpickle->azureml-core~=1.12.0->azureml-sdk[contrib,notebooks]>=1.0.30->utils_cv) (3.1.0)\n",
            "Requirement already satisfied: pycparser in /usr/local/lib/python3.6/dist-packages (from cffi!=1.11.3,>=1.8->cryptography!=1.9,!=2.0.*,!=2.1.*,!=2.2.*->azureml-core~=1.12.0->azureml-sdk[contrib,notebooks]>=1.0.30->utils_cv) (2.20)\n",
            "Collecting distro>=1.2.0\n",
            "  Downloading https://files.pythonhosted.org/packages/25/b7/b3c4270a11414cb22c6352ebc7a83aaa3712043be29daa05018fd5a5c956/distro-1.5.0-py2.py3-none-any.whl\n",
            "Collecting azure-core<2.0.0,>=1.0.0\n",
            "\u001b[?25l  Downloading https://files.pythonhosted.org/packages/5b/e3/acb0c45c0b7afa33eca9fadb47f32cbfb95161e3719fcbe953d689b881bc/azure_core-1.8.0-py2.py3-none-any.whl (121kB)\n",
            "\u001b[K     |████████████████████████████████| 122kB 59.1MB/s \n",
            "\u001b[?25hCollecting msal-extensions~=0.1.3\n",
            "  Downloading https://files.pythonhosted.org/packages/21/9b/8bc67822e98573fe0460e30ad0202ab9e0638a42878041c65a6fe857babe/msal_extensions-0.1.3-py2.py3-none-any.whl\n",
            "Collecting msal<2.0.0,>=1.0.0\n",
            "\u001b[?25l  Downloading https://files.pythonhosted.org/packages/05/4f/1c3c733efe2d3aaff9ba612508b3e21647c8a6d26e1eb3e247170fe1df63/msal-1.4.3-py2.py3-none-any.whl (49kB)\n",
            "\u001b[K     |████████████████████████████████| 51kB 7.0MB/s \n",
            "\u001b[?25hRequirement already satisfied: pyzmq>=13 in /usr/local/lib/python3.6/dist-packages (from jupyter-client->ipykernel->azureml-contrib-notebook~=1.12.0; extra == \"contrib\"->azureml-sdk[contrib,notebooks]>=1.0.30->utils_cv) (19.0.2)\n",
            "Requirement already satisfied: defusedxml in /usr/local/lib/python3.6/dist-packages (from nbconvert>=5.5->papermill<2->azureml-contrib-notebook~=1.12.0; extra == \"contrib\"->azureml-sdk[contrib,notebooks]>=1.0.30->utils_cv) (0.6.0)\n",
            "Requirement already satisfied: testpath in /usr/local/lib/python3.6/dist-packages (from nbconvert>=5.5->papermill<2->azureml-contrib-notebook~=1.12.0; extra == \"contrib\"->azureml-sdk[contrib,notebooks]>=1.0.30->utils_cv) (0.4.4)\n",
            "Requirement already satisfied: pandocfilters>=1.4.1 in /usr/local/lib/python3.6/dist-packages (from nbconvert>=5.5->papermill<2->azureml-contrib-notebook~=1.12.0; extra == \"contrib\"->azureml-sdk[contrib,notebooks]>=1.0.30->utils_cv) (1.4.2)\n",
            "Requirement already satisfied: mistune<2,>=0.8.1 in /usr/local/lib/python3.6/dist-packages (from nbconvert>=5.5->papermill<2->azureml-contrib-notebook~=1.12.0; extra == \"contrib\"->azureml-sdk[contrib,notebooks]>=1.0.30->utils_cv) (0.8.4)\n",
            "Requirement already satisfied: bleach in /usr/local/lib/python3.6/dist-packages (from nbconvert>=5.5->papermill<2->azureml-contrib-notebook~=1.12.0; extra == \"contrib\"->azureml-sdk[contrib,notebooks]>=1.0.30->utils_cv) (3.1.5)\n",
            "Collecting textwrap3>=0.9.2\n",
            "  Downloading https://files.pythonhosted.org/packages/77/9c/a53e561d496ee5866bbeea4d3a850b3b545ed854f8a21007c1e0d872e94d/textwrap3-0.9.2-py2.py3-none-any.whl\n",
            "Requirement already satisfied: wcwidth in /usr/local/lib/python3.6/dist-packages (from prompt-toolkit<2.0.0,>=1.0.4->ipython->azureml-contrib-notebook~=1.12.0; extra == \"contrib\"->azureml-sdk[contrib,notebooks]>=1.0.30->utils_cv) (0.2.5)\n",
            "Requirement already satisfied: ptyprocess>=0.5 in /usr/local/lib/python3.6/dist-packages (from pexpect; sys_platform != \"win32\"->ipython->azureml-contrib-notebook~=1.12.0; extra == \"contrib\"->azureml-sdk[contrib,notebooks]>=1.0.30->utils_cv) (0.6.0)\n",
            "Requirement already satisfied: MarkupSafe>=0.23 in /usr/local/lib/python3.6/dist-packages (from Jinja2>=2.10.1->Flask<2.0,>=1.0->azureml-contrib-services~=1.12.0; extra == \"contrib\"->azureml-sdk[contrib,notebooks]>=1.0.30->utils_cv) (1.1.1)\n",
            "Requirement already satisfied: Send2Trash in /usr/local/lib/python3.6/dist-packages (from notebook>=4.4.1->widgetsnbextension~=3.5.0->ipywidgets>=7.5.0->bqplot->utils_cv) (1.5.0)\n",
            "Requirement already satisfied: terminado>=0.8.1 in /usr/local/lib/python3.6/dist-packages (from notebook>=4.4.1->widgetsnbextension~=3.5.0->ipywidgets>=7.5.0->bqplot->utils_cv) (0.8.3)\n",
            "Collecting portalocker~=1.0\n",
            "  Downloading https://files.pythonhosted.org/packages/3b/e7/ceef002a300a98a208232fab593183249b6964b306ee7dabb29908419cca/portalocker-1.7.1-py2.py3-none-any.whl\n",
            "Requirement already satisfied: webencodings in /usr/local/lib/python3.6/dist-packages (from bleach->nbconvert>=5.5->papermill<2->azureml-contrib-notebook~=1.12.0; extra == \"contrib\"->azureml-sdk[contrib,notebooks]>=1.0.30->utils_cv) (0.5.1)\n",
            "Building wheels for collected packages: utils-cv\n",
            "  Building wheel for utils-cv (PEP 517) ... \u001b[?25l\u001b[?25hdone\n",
            "  Created wheel for utils-cv: filename=utils_cv-2019.8-cp36-none-any.whl size=237380 sha256=5b60289cae87b2988bd8d8e3130f8e423cad0abe9ba1858e84f3456cd3ab4f61\n",
            "  Stored in directory: /tmp/pip-ephem-wheel-cache-j4ub3wje/wheels/6d/69/0d/d509c050bdd89ac3f1dc49aa35ba4aa853f136de67578921f2\n",
            "Successfully built utils-cv\n",
            "Building wheels for collected packages: typing, fusepy\n",
            "  Building wheel for typing (setup.py) ... \u001b[?25l\u001b[?25hdone\n",
            "  Created wheel for typing: filename=typing-3.7.4.3-cp36-none-any.whl size=26309 sha256=e2595f10058c6ace0682252d8c8a8aec9e0ac119fcbaf7241914b0364f26630d\n",
            "  Stored in directory: /root/.cache/pip/wheels/2d/04/41/8e1836e79581989c22eebac3f4e70aaac9af07b0908da173be\n",
            "  Building wheel for fusepy (setup.py) ... \u001b[?25l\u001b[?25hdone\n",
            "  Created wheel for fusepy: filename=fusepy-3.0.1-cp36-none-any.whl size=10504 sha256=26502ed0916d5b62061f74bdd79aae74a42265bc6b5ffa5930c8a16f7d4c5645\n",
            "  Stored in directory: /root/.cache/pip/wheels/4c/a5/91/7772af9e21c461f07bb40f26d928d7d231d224977dd8353bab\n",
            "Successfully built typing fusepy\n",
            "Installing collected packages: distro, dotnetcore2, cryptography, azure-core, PyJWT, msal, portalocker, msal-extensions, azure-identity, azureml-dataprep-native, azureml-dataprep, pyarrow, fusepy, azureml-dataset-runtime, applicationinsights, pathspec, backports.weakref, backports.tempfile, pyopenssl, ndg-httpsclient, isodate, msrest, adal, msrestazure, azure-common, azure-mgmt-resource, azure-mgmt-authorization, jeepney, SecretStorage, azure-mgmt-storage, azure-mgmt-keyvault, azure-graphrbac, azure-mgmt-containerregistry, ruamel.yaml.clib, ruamel.yaml, jsonpickle, websocket-client, docker, azureml-core, azureml-telemetry, azureml-automl-core, azureml-train-automl-client, azureml-pipeline-core, azureml-train-restclients-hyperdrive, azureml-train-core, azureml-pipeline-steps, azureml-pipeline, azureml-train, azureml-contrib-server, textwrap3, ansiwrap, tenacity, papermill, azureml-contrib-notebook, azureml-contrib-pipeline-steps, azureml-contrib-services, azureml-widgets, azureml-sdk, typing, fastai, traittypes, bqplot, utils-cv\n",
            "  Found existing installation: pyarrow 0.14.1\n",
            "    Uninstalling pyarrow-0.14.1:\n",
            "      Successfully uninstalled pyarrow-0.14.1\n",
            "  Found existing installation: fastai 1.0.61\n",
            "    Uninstalling fastai-1.0.61:\n",
            "      Successfully uninstalled fastai-1.0.61\n",
            "Successfully installed PyJWT-1.7.1 SecretStorage-3.1.2 adal-1.2.4 ansiwrap-0.8.4 applicationinsights-0.11.9 azure-common-1.1.25 azure-core-1.8.0 azure-graphrbac-0.61.1 azure-identity-1.2.0 azure-mgmt-authorization-0.61.0 azure-mgmt-containerregistry-2.8.0 azure-mgmt-keyvault-2.2.0 azure-mgmt-resource-10.2.0 azure-mgmt-storage-11.1.0 azureml-automl-core-1.12.0 azureml-contrib-notebook-1.12.0 azureml-contrib-pipeline-steps-1.12.0 azureml-contrib-server-1.12.0 azureml-contrib-services-1.12.0 azureml-core-1.12.0.post1 azureml-dataprep-2.0.7 azureml-dataprep-native-20.0.2 azureml-dataset-runtime-1.12.0 azureml-pipeline-1.12.0 azureml-pipeline-core-1.12.0 azureml-pipeline-steps-1.12.0 azureml-sdk-1.12.0 azureml-telemetry-1.12.0 azureml-train-1.12.0 azureml-train-automl-client-1.12.0.post1 azureml-train-core-1.12.0 azureml-train-restclients-hyperdrive-1.12.0 azureml-widgets-1.12.0 backports.tempfile-1.0 backports.weakref-1.0.post1 bqplot-0.12.16 cryptography-3.0 distro-1.5.0 docker-4.3.1 dotnetcore2-2.1.14 fastai-1.0.48 fusepy-3.0.1 isodate-0.6.0 jeepney-0.4.3 jsonpickle-1.4.1 msal-1.4.3 msal-extensions-0.1.3 msrest-0.6.18 msrestazure-0.6.4 ndg-httpsclient-0.5.1 papermill-1.2.1 pathspec-0.8.0 portalocker-1.7.1 pyarrow-1.0.1 pyopenssl-19.1.0 ruamel.yaml-0.16.10 ruamel.yaml.clib-0.2.0 tenacity-6.2.0 textwrap3-0.9.2 traittypes-0.2.1 typing-3.7.4.3 utils-cv-2019.8 websocket-client-0.57.0\n"
          ],
          "name": "stdout"
        },
        {
          "output_type": "display_data",
          "data": {
            "application/vnd.colab-display-data+json": {
              "pip_warning": {
                "packages": [
                  "typing"
                ]
              }
            }
          },
          "metadata": {
            "tags": []
          }
        }
      ]
    },
    {
      "cell_type": "code",
      "metadata": {
        "id": "5VZ-5xnTdVpx",
        "colab_type": "code",
        "colab": {
          "base_uri": "https://localhost:8080/",
          "height": 36
        },
        "outputId": "58e77918-3f3d-4cc5-b5ce-5b9262ed5490"
      },
      "source": [
        "%cd image-classification-recipe"
      ],
      "execution_count": 1,
      "outputs": [
        {
          "output_type": "stream",
          "text": [
            "/content/image-classification-recipe\n"
          ],
          "name": "stdout"
        }
      ]
    },
    {
      "cell_type": "code",
      "metadata": {
        "id": "CALPCENceGeD",
        "colab_type": "code",
        "colab": {
          "base_uri": "https://localhost:8080/",
          "height": 74
        },
        "outputId": "b54f571b-8c95-432c-c146-14c4ff5e1852"
      },
      "source": [
        "import os\n",
        "from pathlib import Path\n",
        "import numpy as np\n",
        "import matplotlib.pyplot as plt\n",
        "\n",
        "\n",
        "import torch\n",
        "import torchvision\n",
        "from torchvision import transforms as T\n",
        "from datasets import ImageClassificationDataset, load_annotations_from_folder, split_data\n",
        "from callbacks import TrainMetricRecorder\n",
        "from engine import fit, get_predictions\n",
        "import viz_utils"
      ],
      "execution_count": 2,
      "outputs": [
        {
          "output_type": "stream",
          "text": [
            "/usr/local/lib/python3.6/dist-packages/statsmodels/tools/_testing.py:19: FutureWarning: pandas.util.testing is deprecated. Use the functions in the public API at pandas.testing instead.\n",
            "  import pandas.util.testing as tm\n"
          ],
          "name": "stderr"
        }
      ]
    },
    {
      "cell_type": "code",
      "metadata": {
        "id": "ZmOGPnY2gDpv",
        "colab_type": "code",
        "colab": {}
      },
      "source": [
        "from utils_cv.classification.model import TrainMetricsRecorder\n",
        "from utils_cv.classification.plot import plot_pr_roc_curves\n",
        "from utils_cv.classification.widget import ResultsWidget\n",
        "from utils_cv.classification.data import Urls\n",
        "from utils_cv.common.data import unzip_url"
      ],
      "execution_count": 3,
      "outputs": []
    },
    {
      "cell_type": "code",
      "metadata": {
        "id": "EWADUFIzfsNy",
        "colab_type": "code",
        "colab": {
          "base_uri": "https://localhost:8080/",
          "height": 91
        },
        "outputId": "920c9896-fcc2-4405-9cd0-993ecc967b2e"
      },
      "source": [
        "#get dataset\n",
        "DATA_PATH     = unzip_url(Urls.fridge_objects_path, exist_ok=True)\n",
        "\n",
        "path = Path(DATA_PATH)\n",
        "path.ls() "
      ],
      "execution_count": 4,
      "outputs": [
        {
          "output_type": "execute_result",
          "data": {
            "text/plain": [
              "[PosixPath('/usr/local/lib/python3.6/dist-packages/data/fridgeObjects/carton'),\n",
              " PosixPath('/usr/local/lib/python3.6/dist-packages/data/fridgeObjects/water_bottle'),\n",
              " PosixPath('/usr/local/lib/python3.6/dist-packages/data/fridgeObjects/milk_bottle'),\n",
              " PosixPath('/usr/local/lib/python3.6/dist-packages/data/fridgeObjects/can')]"
            ]
          },
          "metadata": {
            "tags": []
          },
          "execution_count": 4
        }
      ]
    },
    {
      "cell_type": "code",
      "metadata": {
        "id": "71jiDCMtgtcM",
        "colab_type": "code",
        "colab": {}
      },
      "source": [
        "#parameters\n",
        "IMAGE_SIZE = 300\n",
        "BATCH_SIZE = 16\n",
        "EPOCHS = 10\n",
        "LR = 1e-4\n",
        "RANDOM_STATE = 19"
      ],
      "execution_count": 5,
      "outputs": []
    },
    {
      "cell_type": "code",
      "metadata": {
        "id": "ji0gFq1bhlW_",
        "colab_type": "code",
        "colab": {
          "base_uri": "https://localhost:8080/",
          "height": 388
        },
        "outputId": "9b66aebe-ae83-45e2-c4c8-a5c89fb3f5bd"
      },
      "source": [
        "#create dataset and dataloader for train and validation set\n",
        "#load annotations\n",
        "image_ids, labels, class_names = load_annotations_from_folder(DATA_PATH)\n",
        "assert len(image_ids) == len(labels)\n",
        "print(f'Total images: {len(image_ids)}')\n",
        "print(f'Classes: {class_names}')\n",
        "\n",
        "#split data into train and validation set\n",
        "train_img_ids, val_img_ids, train_labels, val_labels = split_data(image_ids, labels, test_size=0.2, \n",
        "                                                                    shuffle=True, stratify=labels, random_state=RANDOM_STATE)\n",
        "\n",
        "assert len(train_img_ids) == len(train_labels)\n",
        "assert len(val_img_ids) == len(val_labels)\n",
        "\n",
        "print(f'Train samples: {len(train_img_ids)}')\n",
        "print(f'Validation samples: {len(val_img_ids)}')\n",
        "\n",
        "\n",
        "#calculate and display number of samples per class in train and test set\n",
        "print()\n",
        "print('Class distribution:')\n",
        "print()\n",
        "print('Train set:')\n",
        "train_classes, train_counts = np.unique(train_labels, return_counts=True)\n",
        "assert len(train_classes) == len(class_names)\n",
        "viz_utils.print_table(class_names, train_counts, header=['class', 'count'])\n",
        "print()\n",
        "print('validation set:') \n",
        "val_classes, val_counts = np.unique(val_labels, return_counts=True)\n",
        "assert len(val_classes) == len(class_names)\n",
        "viz_utils.print_table(class_names, val_counts, header=['class', 'count'])"
      ],
      "execution_count": 6,
      "outputs": [
        {
          "output_type": "stream",
          "text": [
            "Total images: 134\n",
            "Classes: ['can', 'carton', 'milk_bottle', 'water_bottle']\n",
            "Train samples: 107\n",
            "Validation samples: 27\n",
            "\n",
            "Class distribution:\n",
            "\n",
            "Train set:\n",
            "class               count               \n",
            "can                 26.0000             \n",
            "carton              26.0000             \n",
            "milk_bottle         29.0000             \n",
            "water_bottle        26.0000             \n",
            "\n",
            "validation set:\n",
            "class               count               \n",
            "can                 6.0000              \n",
            "carton              6.0000              \n",
            "milk_bottle         8.0000              \n",
            "water_bottle        7.0000              \n"
          ],
          "name": "stdout"
        }
      ]
    },
    {
      "cell_type": "code",
      "metadata": {
        "id": "Uwvk9fO9ike2",
        "colab_type": "code",
        "colab": {
          "base_uri": "https://localhost:8080/",
          "height": 279
        },
        "outputId": "2d408fb7-e1c0-4b69-d5ca-a39425a5f017"
      },
      "source": [
        "#define transformations for train and validation set\n",
        "#imagenet stats\n",
        "mean = np.array([0.485, 0.456, 0.406])\n",
        "std = np.array([0.229, 0.224, 0.225])\n",
        "train_transforms = T.Compose([T.Resize(size=(IMAGE_SIZE, IMAGE_SIZE)), T.ToTensor(), T.Normalize(mean, std)])\n",
        "val_transforms = T.Compose([T.Resize(size=(IMAGE_SIZE, IMAGE_SIZE)), T.ToTensor(), T.Normalize(mean, std)])\n",
        "\n",
        "#create train and validation dataset\n",
        "train_dataset = ImageClassificationDataset(str(path), train_img_ids, train_labels, train_transforms)\n",
        "val_dataset = ImageClassificationDataset(str(path), val_img_ids, val_labels, val_transforms)\n",
        "\n",
        "#create dataloaders\n",
        "train_loader = torch.utils.data.DataLoader(train_dataset, batch_size=BATCH_SIZE, shuffle=True, num_workers=4)\n",
        "val_loader =  torch.utils.data.DataLoader(val_dataset, batch_size=BATCH_SIZE, shuffle=False, num_workers=4)\n",
        "\n",
        "#show images\n",
        "batch_inputs, batch_labels = next(iter(train_loader))\n",
        "out = torchvision.utils.make_grid(batch_inputs[:4])\n",
        "viz_utils.imshow(out, mean, std, title=[class_names[x] for x in batch_labels[:4]])\n",
        "\n",
        "batch_inputs, batch_labels = next(iter(val_loader))\n",
        "out = torchvision.utils.make_grid(batch_inputs[:4])\n",
        "viz_utils.imshow(out, mean, std, title=[class_names[x] for x in batch_labels[:4]])"
      ],
      "execution_count": 7,
      "outputs": [
        {
          "output_type": "display_data",
          "data": {
            "image/png": "[encoded data removed]",
            "text/plain": [
              "<Figure size 432x288 with 1 Axes>"
            ]
          },
          "metadata": {
            "tags": [],
            "needs_background": "light"
          }
        },
        {
          "output_type": "display_data",
          "data": {
            "image/png": "[encoded data removed]",
            "text/plain": [
              "<Figure size 432x288 with 1 Axes>"
            ]
          },
          "metadata": {
            "tags": [],
            "needs_background": "light"
          }
        }
      ]
    },
    {
      "cell_type": "code",
      "metadata": {
        "id": "IwKCyN6Zmi4i",
        "colab_type": "code",
        "colab": {
          "base_uri": "https://localhost:8080/",
          "height": 86,
          "referenced_widgets": [
            "4bf08b01de674b9c8c9b681e082816c4",
            "5a83130a67a34df6b8a33d319cc7c98b",
            "dc5498b41d2e490e85b27950e0fc7257",
            "16ab50e4deea48469a4651b0344f63ce",
            "f8f8fd59804e47f59ea49841c4a0ac95",
            "7f4beff65f434e6e95e06809151e6f07",
            "3c7c1295935a406ea671552a88d45e8b",
            "36a371beea574f07b164bc0e5c5ec1fb"
          ]
        },
        "outputId": "c35b1e12-aff3-4122-b788-3513a11b8f0b"
      },
      "source": [
        "#create model\n",
        "model = torchvision.models.resnet18(pretrained=True)\n",
        "in_features = model.fc.in_features\n",
        "model.fc = torch.nn.Linear(in_features, len(class_names))   "
      ],
      "execution_count": 8,
      "outputs": [
        {
          "output_type": "stream",
          "text": [
            "Downloading: \"https://download.pytorch.org/models/resnet18-5c106cde.pth\" to /root/.cache/torch/hub/checkpoints/resnet18-5c106cde.pth\n"
          ],
          "name": "stderr"
        },
        {
          "output_type": "display_data",
          "data": {
            "application/vnd.jupyter.widget-view+json": {
              "model_id": "4bf08b01de674b9c8c9b681e082816c4",
              "version_minor": 0,
              "version_major": 2
            },
            "text/plain": [
              "HBox(children=(FloatProgress(value=0.0, max=46827520.0), HTML(value='')))"
            ]
          },
          "metadata": {
            "tags": []
          }
        },
        {
          "output_type": "stream",
          "text": [
            "\n"
          ],
          "name": "stdout"
        }
      ]
    },
    {
      "cell_type": "code",
      "metadata": {
        "id": "9zJr4xCQoVGg",
        "colab_type": "code",
        "colab": {}
      },
      "source": [
        "#select gpu device\n",
        "device = torch.device('cuda' if torch.cuda.is_available() else 'cpu')\n",
        "\n",
        "#move model to right device\n",
        "model.to(device)\n",
        "\n",
        "#create loss criterion\n",
        "criterion = torch.nn.CrossEntropyLoss()\n",
        "\n",
        "#create optimizer\n",
        "optimizer = torch.optim.Adam(model.parameters(), lr=LR)\n",
        "\n",
        "#create recorder to record metrics during training\n",
        "recorder = TrainMetricRecorder(['accuracy', 'precision', 'recall', 'f1_score'])"
      ],
      "execution_count": 9,
      "outputs": []
    },
    {
      "cell_type": "code",
      "metadata": {
        "id": "Jomkc1ZbogjP",
        "colab_type": "code",
        "colab": {
          "base_uri": "https://localhost:8080/",
          "height": 1000
        },
        "outputId": "7dc42284-bd15-4598-f9de-1655b3ae9a6b"
      },
      "source": [
        "print(\"Training:\")\n",
        "   \n",
        "fit(model, train_loader, val_loader, optimizer, criterion, EPOCHS, device, recorder)\n",
        "\n",
        "history = recorder.history\n",
        "\n",
        "header = ['train_loss', 'val_loss', 'train_accuracy', 'val_accuracy']\n",
        "\n",
        "viz_utils.print_table(history[header[0]], history[header[1]], history[header[2]], history[header[3]], header=header)"
      ],
      "execution_count": 10,
      "outputs": [
        {
          "output_type": "stream",
          "text": [
            "\r  0%|          | 0/7 [00:00<?, ?it/s]"
          ],
          "name": "stderr"
        },
        {
          "output_type": "stream",
          "text": [
            "Training:\n"
          ],
          "name": "stdout"
        },
        {
          "output_type": "stream",
          "text": [
            "100%|██████████| 7/7 [00:01<00:00,  4.07it/s]\n",
            "100%|██████████| 2/2 [00:00<00:00,  3.52it/s]\n",
            "  0%|          | 0/7 [00:00<?, ?it/s]"
          ],
          "name": "stderr"
        },
        {
          "output_type": "stream",
          "text": [
            "\n",
            "Epoch 1: train_loss: 1.3032 val_loss:  0.8862\n",
            "\n"
          ],
          "name": "stdout"
        },
        {
          "output_type": "stream",
          "text": [
            "100%|██████████| 7/7 [00:01<00:00,  4.27it/s]\n",
            "100%|██████████| 2/2 [00:00<00:00,  3.54it/s]\n",
            "  0%|          | 0/7 [00:00<?, ?it/s]"
          ],
          "name": "stderr"
        },
        {
          "output_type": "stream",
          "text": [
            "\n",
            "Epoch 2: train_loss: 0.3377 val_loss:  0.5111\n",
            "\n"
          ],
          "name": "stdout"
        },
        {
          "output_type": "stream",
          "text": [
            "100%|██████████| 7/7 [00:01<00:00,  4.52it/s]\n",
            "100%|██████████| 2/2 [00:00<00:00,  3.71it/s]\n",
            "  0%|          | 0/7 [00:00<?, ?it/s]"
          ],
          "name": "stderr"
        },
        {
          "output_type": "stream",
          "text": [
            "\n",
            "Epoch 3: train_loss: 0.0956 val_loss:  0.3055\n",
            "\n"
          ],
          "name": "stdout"
        },
        {
          "output_type": "stream",
          "text": [
            "100%|██████████| 7/7 [00:01<00:00,  4.41it/s]\n",
            "100%|██████████| 2/2 [00:00<00:00,  3.61it/s]\n",
            "  0%|          | 0/7 [00:00<?, ?it/s]"
          ],
          "name": "stderr"
        },
        {
          "output_type": "stream",
          "text": [
            "\n",
            "Epoch 4: train_loss: 0.0550 val_loss:  0.2195\n",
            "\n"
          ],
          "name": "stdout"
        },
        {
          "output_type": "stream",
          "text": [
            "100%|██████████| 7/7 [00:01<00:00,  4.30it/s]\n",
            "100%|██████████| 2/2 [00:00<00:00,  3.59it/s]\n",
            "  0%|          | 0/7 [00:00<?, ?it/s]"
          ],
          "name": "stderr"
        },
        {
          "output_type": "stream",
          "text": [
            "\n",
            "Epoch 5: train_loss: 0.0314 val_loss:  0.2017\n",
            "\n"
          ],
          "name": "stdout"
        },
        {
          "output_type": "stream",
          "text": [
            "100%|██████████| 7/7 [00:01<00:00,  4.55it/s]\n",
            "100%|██████████| 2/2 [00:00<00:00,  3.71it/s]\n",
            "  0%|          | 0/7 [00:00<?, ?it/s]"
          ],
          "name": "stderr"
        },
        {
          "output_type": "stream",
          "text": [
            "\n",
            "Epoch 6: train_loss: 0.0244 val_loss:  0.2152\n",
            "\n"
          ],
          "name": "stdout"
        },
        {
          "output_type": "stream",
          "text": [
            "100%|██████████| 7/7 [00:01<00:00,  4.29it/s]\n",
            "100%|██████████| 2/2 [00:00<00:00,  3.62it/s]\n",
            "  0%|          | 0/7 [00:00<?, ?it/s]"
          ],
          "name": "stderr"
        },
        {
          "output_type": "stream",
          "text": [
            "\n",
            "Epoch 7: train_loss: 0.0223 val_loss:  0.1914\n",
            "\n"
          ],
          "name": "stdout"
        },
        {
          "output_type": "stream",
          "text": [
            "100%|██████████| 7/7 [00:01<00:00,  4.38it/s]\n",
            "100%|██████████| 2/2 [00:00<00:00,  3.48it/s]\n",
            "  0%|          | 0/7 [00:00<?, ?it/s]"
          ],
          "name": "stderr"
        },
        {
          "output_type": "stream",
          "text": [
            "\n",
            "Epoch 8: train_loss: 0.0136 val_loss:  0.2009\n",
            "\n"
          ],
          "name": "stdout"
        },
        {
          "output_type": "stream",
          "text": [
            "100%|██████████| 7/7 [00:01<00:00,  4.20it/s]\n",
            "100%|██████████| 2/2 [00:00<00:00,  3.60it/s]\n",
            "  0%|          | 0/7 [00:00<?, ?it/s]"
          ],
          "name": "stderr"
        },
        {
          "output_type": "stream",
          "text": [
            "\n",
            "Epoch 9: train_loss: 0.0107 val_loss:  0.1938\n",
            "\n"
          ],
          "name": "stdout"
        },
        {
          "output_type": "stream",
          "text": [
            "100%|██████████| 7/7 [00:01<00:00,  4.24it/s]\n",
            "100%|██████████| 2/2 [00:00<00:00,  3.59it/s]"
          ],
          "name": "stderr"
        },
        {
          "output_type": "stream",
          "text": [
            "\n",
            "Epoch 10: train_loss: 0.0081 val_loss:  0.1812\n",
            "\n",
            "train_loss          val_loss            train_accuracy      val_accuracy        \n",
            "1.3032              0.8862              0.3925              0.7778              \n",
            "0.3377              0.5111              0.9907              0.7778              \n",
            "0.0956              0.3055              1.0000              0.9259              \n",
            "0.0550              0.2195              1.0000              0.9259              \n",
            "0.0314              0.2017              1.0000              0.9259              \n",
            "0.0244              0.2152              1.0000              0.9259              \n",
            "0.0223              0.1914              1.0000              0.9630              \n",
            "0.0136              0.2009              1.0000              0.9630              \n",
            "0.0107              0.1938              1.0000              0.9630              \n",
            "0.0081              0.1812              1.0000              0.9630              \n"
          ],
          "name": "stdout"
        },
        {
          "output_type": "stream",
          "text": [
            "\n"
          ],
          "name": "stderr"
        }
      ]
    },
    {
      "cell_type": "code",
      "metadata": {
        "id": "B9NoDjiwo6zx",
        "colab_type": "code",
        "colab": {
          "base_uri": "https://localhost:8080/",
          "height": 36
        },
        "outputId": "e76f5a7c-8eab-40e7-bfbe-6b71ecbebb1a"
      },
      "source": [
        "#get predictions and probabilitis for validation data\n",
        "preds, probs = get_predictions(model, val_loader, device)"
      ],
      "execution_count": null,
      "outputs": [
        {
          "output_type": "stream",
          "text": [
            "100%|██████████| 2/2 [00:00<00:00,  3.47it/s]\n"
          ],
          "name": "stderr"
        }
      ]
    },
    {
      "cell_type": "code",
      "metadata": {
        "id": "-IG3puqvtVtF",
        "colab_type": "code",
        "colab": {
          "base_uri": "https://localhost:8080/",
          "height": 348
        },
        "outputId": "45ef603e-5434-4139-d4e8-2fe94b459ce5"
      },
      "source": [
        "from sklearn.metrics import confusion_matrix\n",
        "viz_utils.plot_confusion_matrix(confusion_matrix(val_labels, preds), labels=class_names)"
      ],
      "execution_count": 12,
      "outputs": [
        {
          "output_type": "display_data",
          "data": {
            "image/png": "[encoded data removed]",
            "text/plain": [
              "<Figure size 432x288 with 2 Axes>"
            ]
          },
          "metadata": {
            "tags": [],
            "needs_background": "light"
          }
        }
      ]
    },
    {
      "cell_type": "code",
      "metadata": {
        "id": "RgIG0Jk6wO6m",
        "colab_type": "code",
        "colab": {}
      },
      "source": [
        ""
      ],
      "execution_count": null,
      "outputs": []
    }
  ]
}